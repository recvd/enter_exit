{
 "cells": [
  {
   "cell_type": "code",
   "execution_count": null,
   "metadata": {},
   "outputs": [],
   "source": [
    "import pandas as pd\n",
    "import re"
   ]
  },
  {
   "cell_type": "code",
   "execution_count": null,
   "metadata": {},
   "outputs": [],
   "source": [
    "def make_fullyear(column_list):\n",
    "    \"\"\"Function to redefine 'partial year', i.e 'Address99' into 'full year', i.e 'Address1999'.\n",
    "\n",
    "    :param column_list: list of columns in a given data frame\n",
    "\n",
    "    :return List of columns with redefined years\n",
    "    \"\"\"\n",
    "    final_columns = ['0'] * len(column_list)\n",
    "    for i, col in enumerate(column_list):\n",
    "        # Separate potential year from the rest of the column name\n",
    "        year = col[-2:]\n",
    "        col_name = col[:-2]\n",
    "        if re.match('\\d\\d', year):  # If the year is digits\n",
    "            # Figure out century by checking decade\n",
    "            if year[0] == '9':\n",
    "                col = '{}{}{}'.format(col_name, '19', year)\n",
    "            else:\n",
    "                col = '{}{}{}'.format(col_name, '20', year)\n",
    "        final_columns[i] = col\n",
    "    return final_columns"
   ]
  },
  {
   "cell_type": "code",
   "execution_count": null,
   "metadata": {},
   "outputs": [],
   "source": [
    "#just to get a look at columns\n",
    "address_90_99 = pd.read_table(r\"C:\\Users\\jc4673\\Documents\\Data\\NETS\\NETSDatabase2014\\NETS2014_AddressSpecial90to99.txt\", nrows=10)\n",
    "address_00_14 = pd.read_table(r\"C:\\Users\\jc4673\\Documents\\Data\\NETS\\NETSDatabase2014\\NETS2014_AddressSpecial00to14.txt\", nrows=10)\n",
    "sic = pd.read_table(r\"C:\\Users\\jc4673\\Documents\\Data\\NETS\\NETSDatabase2014\\NETS2014_SIC.txt\", nrows=10)\n",
    "company = pd.read_table(r\"C:\\Users\\jc4673\\Documents\\Data\\NETS\\NETSDatabase2014\\NETS2014_Company.txt\", nrows=10)"
   ]
  },
  {
   "cell_type": "code",
   "execution_count": null,
   "metadata": {},
   "outputs": [],
   "source": [
    "cbsa_1 = [x for x in address_90_99.columns if 'CBSA' in x]\n",
    "cbsa_2 = [x for x in address_00_14.columns if 'CBSA' in x]\n",
    "sic_cols = ['DunsNumber'] + [x for x in sic.columns if 'SIC9' in x or 'SIC0' in x or 'SIC1' in x]"
   ]
  },
  {
   "cell_type": "code",
   "execution_count": null,
   "metadata": {},
   "outputs": [],
   "source": [
    "address_90 = pd.read_table(r\"C:\\Users\\jc4673\\Documents\\Data\\NETS\\NETSDatabase2014\\NETS2014_AddressSpecial90to99.txt\",\n",
    "                              chunksize=10**6, index_col='DunsNumber', encoding='Windows-1252', error_bad_lines=False)\n",
    "address_00 = pd.read_table(r\"C:\\Users\\jc4673\\Documents\\Data\\NETS\\NETSDatabase2014\\NETS2014_AddressSpecial00to14.txt\",\n",
    "                              chunksize=10**6, index_col='DunsNumber', encoding='Windows-1252', error_bad_lines=False)\n",
    "sic = pd.read_table(r\"C:\\Users\\jc4673\\Documents\\Data\\NETS\\NETSDatabase2014\\NETS2014_SIC.txt\",\n",
    "                    chunksize=10**6, index_col='DunsNumber', usecols=sic_cols)\n",
    "company = pd.read_table(r\"C:\\Users\\jc4673\\Documents\\Data\\NETS\\NETSDatabase2014\\NETS2014_Company.txt\",\n",
    "                        chunksize=10**6, index_col='DunsNumber', usecols=['DunsNumber', 'Company', 'TradeName'], quoting=3)"
   ]
  },
  {
   "cell_type": "code",
   "execution_count": null,
   "metadata": {},
   "outputs": [],
   "source": [
    "%%time\n",
    "ny_filename = r\"C:\\Users\\jc4673\\Documents\\Data\\NETS\\for_andrew\\ny_nets.csv\"\n",
    "springfield_filename = r\"C:\\Users\\jc4673\\Documents\\Data\\NETS\\for_andrew\\springfield_nets.csv\"\n",
    "\n",
    "for (ad99_chunk, ad14_chunk, sic_chunk, (num, company_chunk)) in zip(address_90, address_00, sic, enumerate(company)):\n",
    "    address = pd.concat([ad99_chunk, ad14_chunk], axis=1)\n",
    "    address_sub = address[cbsa_1 + cbsa_2]\n",
    "    address_filter_ny = address_sub.apply(lambda x: x.isin([20524, 35004, 35084, 35614]), axis=0).any(axis=1)\n",
    "    address_filter_spring = address_sub.apply(lambda x: x.isin([25540, 44140]), axis=0).any(axis=1)\n",
    "    address_filtered_ny = address[address_filter_ny == True]\n",
    "    address_filtered_spring = address[address_filter_spring == True]\n",
    "    \n",
    "    sic_filter = sic_chunk.apply(lambda x: x.isin(range(83220000, 83229999)), axis=0).any(axis=1)\n",
    "    sic_filtered = sic_chunk[sic_filter == True]\n",
    "    \n",
    "    joined_ny = address_filtered_ny.join(sic_filtered, how='inner').join(company_chunk, how='left')\n",
    "    joined_ny.columns = make_fullyear(joined_ny.columns)\n",
    "    joined_spring = address_filtered_spring.join(sic_filtered, how='inner').join(company_chunk, how='left')\n",
    "    joined_spring.columns = make_fullyear(joined_spring.columns)\n",
    "    \n",
    "    ny_long = pd.wide_to_long(joined_ny.reset_index(), ['Address', 'City', 'State', 'ZIP', 'CBSA', 'SIC'], i='DunsNumber', j='Year').sort_index()\n",
    "    ny_long = ny_long[['Company', 'TradeName', 'SIC', 'Address', 'City', 'State', 'ZIP', 'CBSA']].dropna(subset=['SIC'])\n",
    "    \n",
    "    spring_long = pd.wide_to_long(joined_spring.reset_index(), ['Address', 'City', 'State', 'ZIP', 'CBSA', 'SIC'], i='DunsNumber', j='Year').sort_index()\n",
    "    spring_long = spring_long[['Company', 'TradeName', 'SIC', 'Address', 'City', 'State', 'ZIP', 'CBSA']].dropna(subset=['SIC'])\n",
    "    \n",
    "\n",
    "    if num == 0:\n",
    "        ny_long.to_csv(ny_filename)\n",
    "        spring_long.to_csv(springfield_filename)\n",
    "    \n",
    "    else:\n",
    "        with open(ny_filename, 'a') as nyfile, open(springfield_filename, 'a') as spring_file:\n",
    "            ny_long.to_csv(nyfile, header=False)\n",
    "            spring_long.to_csv(spring_file, header=False)\n",
    "    \n",
    "    print(num)\n"
   ]
  },
  {
   "cell_type": "code",
   "execution_count": null,
   "metadata": {},
   "outputs": [],
   "source": []
  },
  {
   "cell_type": "code",
   "execution_count": null,
   "metadata": {},
   "outputs": [],
   "source": []
  }
 ],
 "metadata": {
  "kernelspec": {
   "display_name": "Python [conda env:py365]",
   "language": "python",
   "name": "conda-env-py365-py"
  },
  "language_info": {
   "codemirror_mode": {
    "name": "ipython",
    "version": 3
   },
   "file_extension": ".py",
   "mimetype": "text/x-python",
   "name": "python",
   "nbconvert_exporter": "python",
   "pygments_lexer": "ipython3"
  }
 },
 "nbformat": 4,
 "nbformat_minor": 2
}
