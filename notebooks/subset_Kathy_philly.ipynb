{
 "cells": [
  {
   "cell_type": "code",
   "execution_count": null,
   "metadata": {},
   "outputs": [],
   "source": [
    "import pandas as pd\n",
    "from pathlib import Path\n",
    "import numpy as np\n",
    "import os\n"
   ]
  },
  {
   "cell_type": "code",
   "execution_count": null,
   "metadata": {},
   "outputs": [],
   "source": [
    "root_path = Path(os.getcwd())\n",
    "data_path = root_path.parent / \"data\" / \"recvd_net_vars_v7_20180829.csv\""
   ]
  },
  {
   "cell_type": "code",
   "execution_count": null,
   "metadata": {},
   "outputs": [],
   "source": [
    "with open(data_path, \"r\") as f:\n",
    "    cols = f.readline().strip().split(\",\")\n",
    "\n",
    "cols"
   ]
  },
  {
   "cell_type": "markdown",
   "metadata": {},
   "source": [
    "## We need the following variables:\n",
    "\n",
    "### Identifying characteristics\n",
    "- adr_net_behid_u_2014\n",
    "- adr_net_dunsnumber_x_2014\n",
    "- adr_net_behloc_x_2014\n",
    "\n",
    "### Time characteristics\n",
    "- adr_net_firstyear_x_2014\n",
    "- adr_net_lastyear_x_2014\n",
    "\n",
    "### NETS categories\n",
    "- Medical Neighborhoods - adr_net_acth_c_2014 - ACT (All clinical treatment)\n",
    "- Walking Destinations Neighborhoods - adr_net_walh_c_2014 -WAL (walkability)\n",
    "- Fast food Neighborhoods - adr_net_ffah_c_2014 - FFA (all fast food)\n",
    "\n",
    "### Geographic characteristics\n",
    "- c10_cen_uid_u_2010\n",
    "- m10_cen_uid_u_2010\n",
    "\n",
    "Only within the Philadelphia CBSA, 37980"
   ]
  },
  {
   "cell_type": "markdown",
   "metadata": {},
   "source": [
    "# Reading / Tidying"
   ]
  },
  {
   "cell_type": "code",
   "execution_count": null,
   "metadata": {},
   "outputs": [],
   "source": [
    "cols = [\"adr_net_dunsnumber_x_2014\",\n",
    "\"adr_net_behid_u_2014\",\n",
    "\"adr_net_firstyear_x_2014\",\n",
    "\"adr_net_lastyear_x_2014\",\n",
    "\"adr_net_acth_c_2014\",\n",
    "\"adr_net_walh_c_2014\",\n",
    "\"adr_net_ffah_c_2014\",\n",
    "\"t10_cen_uid_u_2010\",\n",
    "\"m10_cen_uid_u_2010\"]\n",
    "\n",
    "df = pd.read_csv(data_path, chunksize=10**6, usecols=cols)\n",
    "\n",
    "\n",
    "try:\n",
    "    df_philly = pd.read_csv(root_path.parent / \"data\" / \"nets_philly_ACT_FFA_WAL.csv\", usecols=cols)\n",
    "\n",
    "# If we don't already have it, make it and write it to disk\n",
    "except IOError:\n",
    "    df_philly = pd.DataFrame()\n",
    "    for chunk in df:\n",
    "        df_philly = df_philly.append(chunk[chunk[\"m10_cen_uid_u_2010\"] == \"37980\"])\n",
    "\n",
    "    df_philly.to_csv(root_path.parent / \"data\" / \"nets_philly_ACT_FFA_WAL.csv\")\n",
    "   "
   ]
  },
  {
   "cell_type": "code",
   "execution_count": null,
   "metadata": {},
   "outputs": [],
   "source": [
    "len(df_philly)"
   ]
  },
  {
   "cell_type": "code",
   "execution_count": null,
   "metadata": {},
   "outputs": [],
   "source": [
    "df_philly.c10_cen_uid_u_2010.unique()"
   ]
  },
  {
   "cell_type": "code",
   "execution_count": null,
   "metadata": {},
   "outputs": [],
   "source": [
    "grouped_census = df_philly.groupby([ \"adr_net_dunsnumber_x_2014\", \"c10_cen_uid_u_2010\"]).agg({\n",
    "    'adr_net_firstyear_x_2014': min,\n",
    "    'adr_net_lastyear_x_2014': max\n",
    "}) \\\n",
    "    .set_axis([\"enter_year\", \"exit_year\"], axis=\"columns\", inplace=False)\n",
    "\n",
    "grouped_census.head()"
   ]
  },
  {
   "cell_type": "code",
   "execution_count": null,
   "metadata": {},
   "outputs": [],
   "source": [
    "len(grouped_census)"
   ]
  },
  {
   "cell_type": "code",
   "execution_count": null,
   "metadata": {},
   "outputs": [],
   "source": [
    "enter_year = grouped_census.reset_index(drop=False).groupby([\"c10_cen_uid_u_2010\", \"enter_year\"]) \\\n",
    "    .size() \\\n",
    "    .rename_axis([\"c10_cen_uid_u_2010\", \"year\"], axis=\"index\") \\\n",
    "    .rename(\"enter_year\")\n",
    "    \n",
    "exit_year = grouped_census.reset_index(drop=False).groupby([\"c10_cen_uid_u_2010\", \"exit_year\"]) \\\n",
    "    .size() \\\n",
    "    .rename_axis([\"c10_cen_uid_u_2010\", \"year\"], axis=\"index\") \\\n",
    "    .rename(\"exit_year\")"
   ]
  },
  {
   "cell_type": "code",
   "execution_count": null,
   "metadata": {},
   "outputs": [],
   "source": [
    "len(exit_year)"
   ]
  },
  {
   "cell_type": "code",
   "execution_count": null,
   "metadata": {},
   "outputs": [],
   "source": [
    "df_all = pd.concat([enter_year, exit_year], axis=1) \\\n",
    "    .reset_index(drop=False) \\\n",
    "    .assign(year = lambda x: pd.to_datetime(x.year, format=\"%Y\")) \\\n",
    "    .set_index([\"c10_cen_uid_u_2010\", \"year\"])"
   ]
  },
  {
   "cell_type": "code",
   "execution_count": null,
   "metadata": {},
   "outputs": [],
   "source": [
    "ten_yr = df_all.groupby(level=0).resample(\"10Y\", level=1).sum()\n",
    "ten_yr.loc[(slice(None), slice(\"1/1/1990\", \"12/31/2014\")),:]"
   ]
  },
  {
   "cell_type": "markdown",
   "metadata": {},
   "source": [
    "##### groupy"
   ]
  }
 ],
 "metadata": {
  "kernelspec": {
   "display_name": "Python [conda env:py365]",
   "language": "python",
   "name": "conda-env-py365-py"
  },
  "language_info": {
   "codemirror_mode": {
    "name": "ipython",
    "version": 3
   },
   "file_extension": ".py",
   "mimetype": "text/x-python",
   "name": "python",
   "nbconvert_exporter": "python",
   "pygments_lexer": "ipython3"
  }
 },
 "nbformat": 4,
 "nbformat_minor": 1
}
